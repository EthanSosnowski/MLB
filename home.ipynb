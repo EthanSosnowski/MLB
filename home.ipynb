{
 "cells": [
  {
   "cell_type": "code",
   "execution_count": 1,
   "id": "8d6185a4",
   "metadata": {},
   "outputs": [
    {
     "name": "stdout",
     "output_type": "stream",
     "text": [
      "Collecting pybaseball\n",
      "  Using cached pybaseball-2.2.7-py3-none-any.whl.metadata (11 kB)\n",
      "Requirement already satisfied: numpy>=1.13.0 in c:\\users\\erock\\anaconda3\\lib\\site-packages (from pybaseball) (2.1.3)\n",
      "Requirement already satisfied: pandas>=1.0.3 in c:\\users\\erock\\anaconda3\\lib\\site-packages (from pybaseball) (2.2.3)\n",
      "Requirement already satisfied: beautifulsoup4>=4.4.0 in c:\\users\\erock\\anaconda3\\lib\\site-packages (from pybaseball) (4.12.3)\n",
      "Requirement already satisfied: requests>=2.18.1 in c:\\users\\erock\\anaconda3\\lib\\site-packages (from pybaseball) (2.32.3)\n",
      "Requirement already satisfied: lxml>=4.2.1 in c:\\users\\erock\\anaconda3\\lib\\site-packages (from pybaseball) (5.3.0)\n",
      "Requirement already satisfied: pyarrow>=1.0.1 in c:\\users\\erock\\anaconda3\\lib\\site-packages (from pybaseball) (19.0.0)\n",
      "Requirement already satisfied: pygithub>=1.51 in c:\\users\\erock\\anaconda3\\lib\\site-packages (from pybaseball) (2.4.0)\n",
      "Requirement already satisfied: scipy>=1.4.0 in c:\\users\\erock\\anaconda3\\lib\\site-packages (from pybaseball) (1.15.3)\n",
      "Requirement already satisfied: matplotlib>=2.0.0 in c:\\users\\erock\\anaconda3\\lib\\site-packages (from pybaseball) (3.10.0)\n",
      "Requirement already satisfied: tqdm>=4.50.0 in c:\\users\\erock\\anaconda3\\lib\\site-packages (from pybaseball) (4.67.1)\n",
      "Requirement already satisfied: attrs>=20.3.0 in c:\\users\\erock\\anaconda3\\lib\\site-packages (from pybaseball) (24.3.0)\n",
      "Requirement already satisfied: soupsieve>1.2 in c:\\users\\erock\\anaconda3\\lib\\site-packages (from beautifulsoup4>=4.4.0->pybaseball) (2.5)\n",
      "Requirement already satisfied: contourpy>=1.0.1 in c:\\users\\erock\\anaconda3\\lib\\site-packages (from matplotlib>=2.0.0->pybaseball) (1.3.1)\n",
      "Requirement already satisfied: cycler>=0.10 in c:\\users\\erock\\anaconda3\\lib\\site-packages (from matplotlib>=2.0.0->pybaseball) (0.11.0)\n",
      "Requirement already satisfied: fonttools>=4.22.0 in c:\\users\\erock\\anaconda3\\lib\\site-packages (from matplotlib>=2.0.0->pybaseball) (4.55.3)\n",
      "Requirement already satisfied: kiwisolver>=1.3.1 in c:\\users\\erock\\anaconda3\\lib\\site-packages (from matplotlib>=2.0.0->pybaseball) (1.4.8)\n",
      "Requirement already satisfied: packaging>=20.0 in c:\\users\\erock\\anaconda3\\lib\\site-packages (from matplotlib>=2.0.0->pybaseball) (24.2)\n",
      "Requirement already satisfied: pillow>=8 in c:\\users\\erock\\anaconda3\\lib\\site-packages (from matplotlib>=2.0.0->pybaseball) (11.1.0)\n",
      "Requirement already satisfied: pyparsing>=2.3.1 in c:\\users\\erock\\anaconda3\\lib\\site-packages (from matplotlib>=2.0.0->pybaseball) (3.2.0)\n",
      "Requirement already satisfied: python-dateutil>=2.7 in c:\\users\\erock\\anaconda3\\lib\\site-packages (from matplotlib>=2.0.0->pybaseball) (2.9.0.post0)\n",
      "Requirement already satisfied: pytz>=2020.1 in c:\\users\\erock\\anaconda3\\lib\\site-packages (from pandas>=1.0.3->pybaseball) (2024.1)\n",
      "Requirement already satisfied: tzdata>=2022.7 in c:\\users\\erock\\anaconda3\\lib\\site-packages (from pandas>=1.0.3->pybaseball) (2025.2)\n",
      "Requirement already satisfied: pynacl>=1.4.0 in c:\\users\\erock\\anaconda3\\lib\\site-packages (from pygithub>=1.51->pybaseball) (1.5.0)\n",
      "Requirement already satisfied: pyjwt>=2.4.0 in c:\\users\\erock\\anaconda3\\lib\\site-packages (from pyjwt[crypto]>=2.4.0->pygithub>=1.51->pybaseball) (2.10.1)\n",
      "Requirement already satisfied: typing-extensions>=4.0.0 in c:\\users\\erock\\anaconda3\\lib\\site-packages (from pygithub>=1.51->pybaseball) (4.12.2)\n",
      "Requirement already satisfied: urllib3>=1.26.0 in c:\\users\\erock\\anaconda3\\lib\\site-packages (from pygithub>=1.51->pybaseball) (2.3.0)\n",
      "Requirement already satisfied: Deprecated in c:\\users\\erock\\anaconda3\\lib\\site-packages (from pygithub>=1.51->pybaseball) (1.2.13)\n",
      "Requirement already satisfied: cryptography>=3.4.0 in c:\\users\\erock\\anaconda3\\lib\\site-packages (from pyjwt[crypto]>=2.4.0->pygithub>=1.51->pybaseball) (44.0.1)\n",
      "Requirement already satisfied: cffi>=1.12 in c:\\users\\erock\\anaconda3\\lib\\site-packages (from cryptography>=3.4.0->pyjwt[crypto]>=2.4.0->pygithub>=1.51->pybaseball) (1.17.1)\n",
      "Requirement already satisfied: pycparser in c:\\users\\erock\\anaconda3\\lib\\site-packages (from cffi>=1.12->cryptography>=3.4.0->pyjwt[crypto]>=2.4.0->pygithub>=1.51->pybaseball) (2.21)\n",
      "Requirement already satisfied: six>=1.5 in c:\\users\\erock\\anaconda3\\lib\\site-packages (from python-dateutil>=2.7->matplotlib>=2.0.0->pybaseball) (1.17.0)\n",
      "Requirement already satisfied: charset-normalizer<4,>=2 in c:\\users\\erock\\anaconda3\\lib\\site-packages (from requests>=2.18.1->pybaseball) (3.3.2)\n",
      "Requirement already satisfied: idna<4,>=2.5 in c:\\users\\erock\\anaconda3\\lib\\site-packages (from requests>=2.18.1->pybaseball) (3.7)\n",
      "Requirement already satisfied: certifi>=2017.4.17 in c:\\users\\erock\\anaconda3\\lib\\site-packages (from requests>=2.18.1->pybaseball) (2025.4.26)\n",
      "Requirement already satisfied: colorama in c:\\users\\erock\\anaconda3\\lib\\site-packages (from tqdm>=4.50.0->pybaseball) (0.4.6)\n",
      "Requirement already satisfied: wrapt<2,>=1.10 in c:\\users\\erock\\anaconda3\\lib\\site-packages (from Deprecated->pygithub>=1.51->pybaseball) (1.17.0)\n",
      "Using cached pybaseball-2.2.7-py3-none-any.whl (426 kB)\n",
      "Installing collected packages: pybaseball\n",
      "Successfully installed pybaseball-2.2.7\n"
     ]
    }
   ],
   "source": [
    "!pip install pybaseball"
   ]
  },
  {
   "cell_type": "code",
   "execution_count": 2,
   "id": "674041e4",
   "metadata": {},
   "outputs": [
    {
     "name": "stdout",
     "output_type": "stream",
     "text": [
      "Gathering player lookup table. This may take a moment.\n",
      "  name_last name_first  key_mlbam key_retro  key_bbref  key_fangraphs  \\\n",
      "0   kershaw    clayton     477132  kersc001  kershcl01           2036   \n",
      "\n",
      "   mlb_played_first  mlb_played_last  \n",
      "0            2008.0           2025.0  \n",
      "Gathering Player Data\n",
      "pitch_type\n",
      "CH    86.725000\n",
      "CU    73.133333\n",
      "FF    92.844622\n",
      "SI    94.515385\n",
      "SL    87.962381\n",
      "Name: release_speed, dtype: float64\n"
     ]
    }
   ],
   "source": [
    "# Find Clayton Kershaw's player id\n",
    "from pybaseball import  playerid_lookup\n",
    "from pybaseball import  statcast_pitcher\n",
    "print(playerid_lookup('kershaw', 'clayton'))\n",
    "\n",
    "# His MLBAM ID is 477132, so we feed that as the player_id argument to the following function \n",
    "kershaw_stats = statcast_pitcher('2017-06-01', '2017-07-01', 477132)\n",
    "print(kershaw_stats.groupby(\"pitch_type\").release_speed.agg(\"mean\"))\n",
    "\n",
    "\n",
    "\n",
    "\n",
    "# from pybaseball import statcast\n",
    "# statcast(start_dt=\"2019-06-24\", end_dt=\"2019-06-25\").columns\n",
    "# Index(['pitch_type', 'game_date', 'release_speed', 'release_pos_x',\n",
    "#        'release_pos_z', 'player_name', 'batter', 'pitcher', 'events',\n",
    "#        'description', 'spin_dir', 'spin_rate_deprecated',\n",
    "#        'break_angle_deprecated', 'break_length_deprecated', 'zone', 'des',\n",
    "#        'game_type', 'stand', 'p_throws', 'home_team', 'away_team', 'type',\n",
    "#        'hit_location', 'bb_type', 'balls', 'strikes', 'game_year', 'pfx_x',\n",
    "#        'pfx_z', 'plate_x', 'plate_z', 'on_3b', 'on_2b', 'on_1b',\n",
    "#        'outs_when_up', 'inning', 'inning_topbot', 'hc_x', 'hc_y',\n",
    "#        'tfs_deprecated', 'tfs_zulu_deprecated', 'fielder_2', 'umpire', 'sv_id',\n",
    "#        'vx0', 'vy0', 'vz0', 'ax', 'ay', 'az', 'sz_top', 'sz_bot',\n",
    "#        'hit_distance_sc', 'launch_speed', 'launch_angle', 'effective_speed',\n",
    "#        'release_spin_rate', 'release_extension', 'game_pk', 'pitcher.1',\n",
    "#        'fielder_2.1', 'fielder_3', 'fielder_4', 'fielder_5', 'fielder_6',\n",
    "#        'fielder_7', 'fielder_8', 'fielder_9', 'release_pos_y',\n",
    "#        'estimated_ba_using_speedangle', 'estimated_woba_using_speedangle',\n",
    "#        'woba_value', 'woba_denom', 'babip_value', 'iso_value',\n",
    "#        'launch_speed_angle', 'at_bat_number', 'pitch_number', 'pitch_name',\n",
    "#        'home_score', 'away_score', 'bat_score', 'fld_score', 'post_away_score',\n",
    "#        'post_home_score', 'post_bat_score', 'post_fld_score',\n",
    "#        'if_fielding_alignment', 'of_fielding_alignment', 'spin_axis',\n",
    "#        'delta_home_win_exp', 'delta_run_exp'],\n",
    "#       dtype='object')"
   ]
  }
 ],
 "metadata": {
  "kernelspec": {
   "display_name": "base",
   "language": "python",
   "name": "python3"
  },
  "language_info": {
   "codemirror_mode": {
    "name": "ipython",
    "version": 3
   },
   "file_extension": ".py",
   "mimetype": "text/x-python",
   "name": "python",
   "nbconvert_exporter": "python",
   "pygments_lexer": "ipython3",
   "version": "3.13.5"
  }
 },
 "nbformat": 4,
 "nbformat_minor": 5
}
